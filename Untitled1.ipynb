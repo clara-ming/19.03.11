{
  "nbformat": 4,
  "nbformat_minor": 0,
  "metadata": {
    "colab": {
      "name": "Untitled1.ipynb",
      "version": "0.3.2",
      "provenance": [],
      "include_colab_link": true
    },
    "kernelspec": {
      "name": "python3",
      "display_name": "Python 3"
    }
  },
  "cells": [
    {
      "cell_type": "markdown",
      "metadata": {
        "id": "view-in-github",
        "colab_type": "text"
      },
      "source": [
        "<a href=\"https://colab.research.google.com/github/clara-ming/19.03.11/blob/master/Untitled1.ipynb\" target=\"_parent\"><img src=\"https://colab.research.google.com/assets/colab-badge.svg\" alt=\"Open In Colab\"/></a>"
      ]
    },
    {
      "cell_type": "code",
      "metadata": {
        "id": "PWPSJ2pDaOpY",
        "colab_type": "code",
        "colab": {}
      },
      "source": [
        "!pip install -q keras\n",
        "import numpy as np\n",
        "# Use a linear stack of layers\n",
        "from keras.models import Sequential \n",
        "# Implement output = activation(dot(input, kernel) + bias)\n",
        "from keras.layers import Dense \n",
        "import pandas as pd"
      ],
      "execution_count": 0,
      "outputs": []
    },
    {
      "cell_type": "code",
      "metadata": {
        "id": "Y9R6Fj3xangY",
        "colab_type": "code",
        "colab": {
          "base_uri": "https://localhost:8080/",
          "height": 168
        },
        "outputId": "6e153753-2974-4c7c-bea2-91b819fd8dbb"
      },
      "source": [
        "# define dataset\n",
        "X = np.array([[10, 20, 30, 100], [20, 30, 40, 200], [30, 40, 50, 300], [40, 50, 60, 400]])\n",
        "y = np.array([40, 50, 60, 70])\n",
        "pd.DataFrame(X)"
      ],
      "execution_count": 17,
      "outputs": [
        {
          "output_type": "execute_result",
          "data": {
            "text/html": [
              "<div>\n",
              "<style scoped>\n",
              "    .dataframe tbody tr th:only-of-type {\n",
              "        vertical-align: middle;\n",
              "    }\n",
              "\n",
              "    .dataframe tbody tr th {\n",
              "        vertical-align: top;\n",
              "    }\n",
              "\n",
              "    .dataframe thead th {\n",
              "        text-align: right;\n",
              "    }\n",
              "</style>\n",
              "<table border=\"1\" class=\"dataframe\">\n",
              "  <thead>\n",
              "    <tr style=\"text-align: right;\">\n",
              "      <th></th>\n",
              "      <th>0</th>\n",
              "      <th>1</th>\n",
              "      <th>2</th>\n",
              "      <th>3</th>\n",
              "    </tr>\n",
              "  </thead>\n",
              "  <tbody>\n",
              "    <tr>\n",
              "      <th>0</th>\n",
              "      <td>10</td>\n",
              "      <td>20</td>\n",
              "      <td>30</td>\n",
              "      <td>100</td>\n",
              "    </tr>\n",
              "    <tr>\n",
              "      <th>1</th>\n",
              "      <td>20</td>\n",
              "      <td>30</td>\n",
              "      <td>40</td>\n",
              "      <td>200</td>\n",
              "    </tr>\n",
              "    <tr>\n",
              "      <th>2</th>\n",
              "      <td>30</td>\n",
              "      <td>40</td>\n",
              "      <td>50</td>\n",
              "      <td>300</td>\n",
              "    </tr>\n",
              "    <tr>\n",
              "      <th>3</th>\n",
              "      <td>40</td>\n",
              "      <td>50</td>\n",
              "      <td>60</td>\n",
              "      <td>400</td>\n",
              "    </tr>\n",
              "  </tbody>\n",
              "</table>\n",
              "</div>"
            ],
            "text/plain": [
              "    0   1   2    3\n",
              "0  10  20  30  100\n",
              "1  20  30  40  200\n",
              "2  30  40  50  300\n",
              "3  40  50  60  400"
            ]
          },
          "metadata": {
            "tags": []
          },
          "execution_count": 17
        }
      ]
    },
    {
      "cell_type": "code",
      "metadata": {
        "id": "LZtGc4_GbDRf",
        "colab_type": "code",
        "colab": {
          "base_uri": "https://localhost:8080/",
          "height": 290
        },
        "outputId": "04315327-35e5-4a16-9b9d-7654d6fa7b2b"
      },
      "source": [
        "# define model\n",
        "model = Sequential()\n",
        "model.add(Dense(8, activation='relu', input_dim=4, kernel_initializer='uniform'))\n",
        "model.add(Dense(8, activation='relu', kernel_initializer='uniform'))\n",
        "model.add(Dense(8, activation='relu', kernel_initializer='uniform'))\n",
        "model.add(Dense(1))\n",
        "model.compile(optimizer='adam', loss='mse')\n",
        "model.summary()"
      ],
      "execution_count": 29,
      "outputs": [
        {
          "output_type": "stream",
          "text": [
            "_________________________________________________________________\n",
            "Layer (type)                 Output Shape              Param #   \n",
            "=================================================================\n",
            "dense_26 (Dense)             (None, 8)                 40        \n",
            "_________________________________________________________________\n",
            "dense_27 (Dense)             (None, 8)                 72        \n",
            "_________________________________________________________________\n",
            "dense_28 (Dense)             (None, 8)                 72        \n",
            "_________________________________________________________________\n",
            "dense_29 (Dense)             (None, 1)                 9         \n",
            "=================================================================\n",
            "Total params: 193\n",
            "Trainable params: 193\n",
            "Non-trainable params: 0\n",
            "_________________________________________________________________\n"
          ],
          "name": "stdout"
        }
      ]
    },
    {
      "cell_type": "code",
      "metadata": {
        "id": "yMfx4FBIb1kU",
        "colab_type": "code",
        "colab": {
          "base_uri": "https://localhost:8080/",
          "height": 35
        },
        "outputId": "bdfe95d3-a7b8-4492-fdda-704999b7d628"
      },
      "source": [
        "# verbose: Integer. 0, 1, or 2\n",
        "model.fit(X, y, epochs=1000, verbose=0)\n"
      ],
      "execution_count": 30,
      "outputs": [
        {
          "output_type": "execute_result",
          "data": {
            "text/plain": [
              "<keras.callbacks.History at 0x7fad2ab19470>"
            ]
          },
          "metadata": {
            "tags": []
          },
          "execution_count": 30
        }
      ]
    },
    {
      "cell_type": "code",
      "metadata": {
        "id": "PDL8X8yFb85U",
        "colab_type": "code",
        "colab": {
          "base_uri": "https://localhost:8080/",
          "height": 54
        },
        "outputId": "6a890c0d-416d-4fc2-a05b-f9cf3091de03"
      },
      "source": [
        "x_input = np.array([50, 60, 70, 500])\n",
        "print(x_input)\n",
        "x_input = x_input.reshape((1, 4))\n",
        "print(x_input)"
      ],
      "execution_count": 31,
      "outputs": [
        {
          "output_type": "stream",
          "text": [
            "[ 50  60  70 500]\n",
            "[[ 50  60  70 500]]\n"
          ],
          "name": "stdout"
        }
      ]
    },
    {
      "cell_type": "code",
      "metadata": {
        "id": "jo7dTCJMcJbA",
        "colab_type": "code",
        "colab": {
          "base_uri": "https://localhost:8080/",
          "height": 35
        },
        "outputId": "22e6cb41-e10c-4c2a-a44d-a8283a3390ab"
      },
      "source": [
        "yhat = model.predict(x_input, verbose=0)\n",
        "print(yhat[0,0])\n"
      ],
      "execution_count": 32,
      "outputs": [
        {
          "output_type": "stream",
          "text": [
            "93.59551\n"
          ],
          "name": "stdout"
        }
      ]
    }
  ]
}