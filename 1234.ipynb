{
  "nbformat": 4,
  "nbformat_minor": 0,
  "metadata": {
    "colab": {
      "name": "1234.ipynb",
      "version": "0.3.2",
      "provenance": []
    },
    "kernelspec": {
      "name": "python3",
      "display_name": "Python 3"
    }
  },
  "cells": [
    {
      "cell_type": "code",
      "metadata": {
        "id": "tcd0t1O6ewbq",
        "colab_type": "code",
        "colab": {}
      },
      "source": [
        "# Reverse engineering BSM formula using ANN\n",
        "import numpy as np\n",
        "import pandas as pd\n",
        "import scipy.stats as si\n"
      ],
      "execution_count": 0,
      "outputs": []
    },
    {
      "cell_type": "code",
      "metadata": {
        "id": "3p_1uvNie55s",
        "colab_type": "code",
        "colab": {}
      },
      "source": [
        "def N(x):\n",
        "  return si.norm.cdf(x, 0.0, 1.0)\n"
      ],
      "execution_count": 0,
      "outputs": []
    },
    {
      "cell_type": "code",
      "metadata": {
        "id": "UBwnQK-Ae8v2",
        "colab_type": "code",
        "colab": {}
      },
      "source": [
        "def euro_vanilla(S, K, T, r, d, sigma, call_option = 1):\n",
        "\n",
        "  \n",
        "    F = S*np.exp((r-d)*T)\n",
        "    B = np.exp(-r*T)\n",
        "    d1 = (np.log(F / K) + 0.5 * sigma ** 2 * T) / (sigma * np.sqrt(T))\n",
        "    d2 = (np.log(F / K) - 0.5 * sigma ** 2 * T) / (sigma * np.sqrt(T))\n",
        "\n",
        "    if call_option == 1:\n",
        "        result = (F * N(d1) - K * N(d2))\n",
        "    if call_option == 0:\n",
        "        result = (K * N(-d2) - F * N(-d1))\n",
        "    return B*result  \n",
        "\n",
        "np.random.seed(42)\n"
      ],
      "execution_count": 0,
      "outputs": []
    },
    {
      "cell_type": "code",
      "metadata": {
        "id": "jRuJ2Ydpf18x",
        "colab_type": "code",
        "colab": {
          "base_uri": "https://localhost:8080/",
          "height": 35
        },
        "outputId": "6798397b-8d2e-4b60-d761-03115060a404"
      },
      "source": [
        "N(1.39)"
      ],
      "execution_count": 8,
      "outputs": [
        {
          "output_type": "execute_result",
          "data": {
            "text/plain": [
              "0.917735561322331"
            ]
          },
          "metadata": {
            "tags": []
          },
          "execution_count": 8
        }
      ]
    },
    {
      "cell_type": "code",
      "metadata": {
        "id": "rnNb_I87f8NI",
        "colab_type": "code",
        "colab": {}
      },
      "source": [
        "def euro_vanilla(S, K, T, r, d, sigma, call_option = 1):\n",
        "\n",
        "    # S: spot price\n",
        "    # K: strike price\n",
        "    # T: time to maturity (unit: year)\n",
        "    # r: interest rate per year\n",
        "    # d: dividend rate per year\n",
        "    # sigma: volatility of underlying asset per year\n",
        "    # call_option: call = 1, put = 0\n",
        "  \n",
        "    F = S*np.exp((r-d)*T)\n",
        "    B = np.exp(-r*T)\n",
        "    d1 = (np.log(F / K) + 0.5 * sigma ** 2 * T) / (sigma * np.sqrt(T))\n",
        "    d2 = (np.log(F / K) - 0.5 * sigma ** 2 * T) / (sigma * np.sqrt(T))\n",
        "\n",
        "    if call_option == 1:\n",
        "        result = (F * N(d1) - K * N(d2))\n",
        "    if call_option == 0:\n",
        "        result = (K * N(-d2) - F * N(-d1))\n",
        "    return B*result  \n"
      ],
      "execution_count": 0,
      "outputs": []
    },
    {
      "cell_type": "code",
      "metadata": {
        "id": "pjhQhaKvgRCu",
        "colab_type": "code",
        "colab": {}
      },
      "source": [
        "np.random.seed(42)"
      ],
      "execution_count": 0,
      "outputs": []
    },
    {
      "cell_type": "code",
      "metadata": {
        "id": "z0EAOGnYgxV3",
        "colab_type": "code",
        "colab": {
          "base_uri": "https://localhost:8080/",
          "height": 35
        },
        "outputId": "5d02ee4e-f6aa-4a0d-d109-e5e21f1a4a65"
      },
      "source": [
        "euro_vanilla(30,50,1,0.015,0.01,0.3,call_option=0)"
      ],
      "execution_count": 14,
      "outputs": [
        {
          "output_type": "execute_result",
          "data": {
            "text/plain": [
              "19.769347016707336"
            ]
          },
          "metadata": {
            "tags": []
          },
          "execution_count": 14
        }
      ]
    },
    {
      "cell_type": "code",
      "metadata": {
        "id": "0NdSnkY0gr5v",
        "colab_type": "code",
        "colab": {}
      },
      "source": [
        "\n",
        "draws = 10**3\n",
        "S = np.random.rand(draws) * 100.\n",
        "K = (np.random.randint(50, 150, draws) * .01) * S\n",
        "T = np.random.randint(10, 300, draws) / 100.\n",
        "r = np.random.randint(1, 1000, draws) / 10000.\n",
        "d = np.random.randint(1, 1000, draws) / 10000.\n",
        "sigma = np.random.random(draws)\n",
        "opt_type = np.random.choice([1,  0], draws)\n"
      ],
      "execution_count": 0,
      "outputs": []
    },
    {
      "cell_type": "code",
      "metadata": {
        "id": "-7sCPGJFhXJ9",
        "colab_type": "code",
        "colab": {
          "base_uri": "https://localhost:8080/",
          "height": 35
        },
        "outputId": "cb83af89-dc40-4514-db5d-c140973f4c58"
      },
      "source": [
        "np.random.rand(5)"
      ],
      "execution_count": 15,
      "outputs": [
        {
          "output_type": "execute_result",
          "data": {
            "text/plain": [
              "array([0.58268615, 0.12410737, 0.12141491, 0.72113236, 0.18378467])"
            ]
          },
          "metadata": {
            "tags": []
          },
          "execution_count": 15
        }
      ]
    },
    {
      "cell_type": "code",
      "metadata": {
        "id": "G1mcx6ZahbMz",
        "colab_type": "code",
        "colab": {
          "base_uri": "https://localhost:8080/",
          "height": 35
        },
        "outputId": "875872d0-2f9e-4fbc-ece0-3d537534d22a"
      },
      "source": [
        "np.random.rand(5)*100"
      ],
      "execution_count": 16,
      "outputs": [
        {
          "output_type": "execute_result",
          "data": {
            "text/plain": [
              "array([32.83854996, 48.72120069,  2.47648776, 24.8819027 , 40.78896085])"
            ]
          },
          "metadata": {
            "tags": []
          },
          "execution_count": 16
        }
      ]
    },
    {
      "cell_type": "code",
      "metadata": {
        "id": "EXt2Hc4OhnJ9",
        "colab_type": "code",
        "colab": {
          "base_uri": "https://localhost:8080/",
          "height": 35
        },
        "outputId": "0d6d00fa-26ed-40dc-dc2b-69b64ac1f50f"
      },
      "source": [
        "np.random.randint(50, 150, 7)"
      ],
      "execution_count": 18,
      "outputs": [
        {
          "output_type": "execute_result",
          "data": {
            "text/plain": [
              "array([ 85, 142, 125,  63, 103, 134, 135])"
            ]
          },
          "metadata": {
            "tags": []
          },
          "execution_count": 18
        }
      ]
    },
    {
      "cell_type": "code",
      "metadata": {
        "id": "WGgNm-_0h7sS",
        "colab_type": "code",
        "colab": {
          "base_uri": "https://localhost:8080/",
          "height": 1000
        },
        "outputId": "a7fd849f-c0f9-44dc-855a-e53d0766b761"
      },
      "source": [
        "r"
      ],
      "execution_count": 19,
      "outputs": [
        {
          "output_type": "execute_result",
          "data": {
            "text/plain": [
              "array([0.0835, 0.0566, 0.0906, 0.081 , 0.032 , 0.0126, 0.0277, 0.0976,\n",
              "       0.0204, 0.0194, 0.0681, 0.0664, 0.0547, 0.0696, 0.0286, 0.0057,\n",
              "       0.0734, 0.0303, 0.0163, 0.0019, 0.037 , 0.0264, 0.0794, 0.0113,\n",
              "       0.0488, 0.0327, 0.0542, 0.0647, 0.0579, 0.0065, 0.0292, 0.0025,\n",
              "       0.0549, 0.0001, 0.0911, 0.0549, 0.0141, 0.0744, 0.0648, 0.0901,\n",
              "       0.0188, 0.0128, 0.0201, 0.0127, 0.0257, 0.0676, 0.0547, 0.0194,\n",
              "       0.0703, 0.0104, 0.0535, 0.0265, 0.0802, 0.0942, 0.0974, 0.0384,\n",
              "       0.026 , 0.0414, 0.0991, 0.0358, 0.0075, 0.0355, 0.0584, 0.0771,\n",
              "       0.091 , 0.0188, 0.0973, 0.0685, 0.0992, 0.029 , 0.0045, 0.0573,\n",
              "       0.0083, 0.0123, 0.0358, 0.0528, 0.0066, 0.0936, 0.0657, 0.0375,\n",
              "       0.0162, 0.0746, 0.038 , 0.0656, 0.0358, 0.0188, 0.0322, 0.045 ,\n",
              "       0.0474, 0.0013, 0.0184, 0.0111, 0.0927, 0.0508, 0.029 , 0.0295,\n",
              "       0.0451, 0.0904, 0.0215, 0.0974, 0.0632, 0.0894, 0.0567, 0.0027,\n",
              "       0.063 , 0.0733, 0.0231, 0.0565, 0.0807, 0.0321, 0.0913, 0.0233,\n",
              "       0.067 , 0.0437, 0.0781, 0.0533, 0.0403, 0.0053, 0.0787, 0.0313,\n",
              "       0.0281, 0.0726, 0.0031, 0.0337, 0.0183, 0.0023, 0.0544, 0.0446,\n",
              "       0.0074, 0.001 , 0.0484, 0.0456, 0.0566, 0.0564, 0.066 , 0.016 ,\n",
              "       0.0882, 0.0014, 0.0178, 0.0412, 0.0878, 0.0053, 0.0408, 0.0847,\n",
              "       0.0022, 0.003 , 0.0703, 0.026 , 0.0205, 0.0059, 0.0471, 0.0776,\n",
              "       0.0466, 0.0012, 0.0631, 0.0927, 0.0974, 0.029 , 0.085 , 0.076 ,\n",
              "       0.0354, 0.0639, 0.0075, 0.0873, 0.0716, 0.0561, 0.0591, 0.0441,\n",
              "       0.0991, 0.0241, 0.0861, 0.0154, 0.0786, 0.0096, 0.0726, 0.0294,\n",
              "       0.0209, 0.0343, 0.0088, 0.0818, 0.0776, 0.0937, 0.039 , 0.0325,\n",
              "       0.094 , 0.0889, 0.0832, 0.0157, 0.0668, 0.0651, 0.0633, 0.0577,\n",
              "       0.0619, 0.0659, 0.0137, 0.0923, 0.0674, 0.0428, 0.0452, 0.0612,\n",
              "       0.085 , 0.0911, 0.0819, 0.0141, 0.0083, 0.0177, 0.0198, 0.0624,\n",
              "       0.0568, 0.0972, 0.0691, 0.0421, 0.0401, 0.0698, 0.0471, 0.0218,\n",
              "       0.0925, 0.0929, 0.0828, 0.0987, 0.0729, 0.0632, 0.0951, 0.0906,\n",
              "       0.0175, 0.0023, 0.0725, 0.0917, 0.0235, 0.0013, 0.0101, 0.0929,\n",
              "       0.0536, 0.0876, 0.0523, 0.0785, 0.0452, 0.0431, 0.0793, 0.0606,\n",
              "       0.0713, 0.0533, 0.0852, 0.0979, 0.0723, 0.0652, 0.0293, 0.081 ,\n",
              "       0.0913, 0.0101, 0.0502, 0.0304, 0.0871, 0.054 , 0.0553, 0.0355,\n",
              "       0.0303, 0.0496, 0.0658, 0.0768, 0.0974, 0.0227, 0.0236, 0.0873,\n",
              "       0.0892, 0.0455, 0.0013, 0.021 , 0.0741, 0.0397, 0.01  , 0.0031,\n",
              "       0.0898, 0.0528, 0.0649, 0.0329, 0.0166, 0.0459, 0.0822, 0.0952,\n",
              "       0.0982, 0.0993, 0.01  , 0.0621, 0.0855, 0.0173, 0.0749, 0.0162,\n",
              "       0.0905, 0.0728, 0.0776, 0.0263, 0.0804, 0.0274, 0.0003, 0.0028,\n",
              "       0.0326, 0.094 , 0.0149, 0.054 , 0.0488, 0.0822, 0.0438, 0.0065,\n",
              "       0.0356, 0.0533, 0.0252, 0.0235, 0.0227, 0.0525, 0.0313, 0.0049,\n",
              "       0.0118, 0.0054, 0.065 , 0.0565, 0.0044, 0.0815, 0.0053, 0.0586,\n",
              "       0.0558, 0.0525, 0.0677, 0.0102, 0.0792, 0.077 , 0.0982, 0.0849,\n",
              "       0.0868, 0.0398, 0.0138, 0.0675, 0.0921, 0.0387, 0.0111, 0.0614,\n",
              "       0.0017, 0.078 , 0.0182, 0.0884, 0.0536, 0.0541, 0.0171, 0.0409,\n",
              "       0.074 , 0.0378, 0.0188, 0.0858, 0.023 , 0.0833, 0.0852, 0.0119,\n",
              "       0.0156, 0.0784, 0.0687, 0.0465, 0.0104, 0.0604, 0.0698, 0.0972,\n",
              "       0.0795, 0.0502, 0.0693, 0.0682, 0.0699, 0.0175, 0.0734, 0.0745,\n",
              "       0.0674, 0.0421, 0.0134, 0.0391, 0.0992, 0.0736, 0.0501, 0.0665,\n",
              "       0.0033, 0.0055, 0.0954, 0.0519, 0.0756, 0.0825, 0.0638, 0.0012,\n",
              "       0.0528, 0.072 , 0.0555, 0.0373, 0.0484, 0.0973, 0.0647, 0.0228,\n",
              "       0.0623, 0.0307, 0.0457, 0.016 , 0.0331, 0.0776, 0.0225, 0.0983,\n",
              "       0.0729, 0.0504, 0.0456, 0.0045, 0.0214, 0.0059, 0.0644, 0.0616,\n",
              "       0.0195, 0.0925, 0.0489, 0.0157, 0.061 , 0.0226, 0.0412, 0.0205,\n",
              "       0.0079, 0.0124, 0.0471, 0.094 , 0.0218, 0.0516, 0.0602, 0.0104,\n",
              "       0.0393, 0.0631, 0.0645, 0.0824, 0.0608, 0.098 , 0.0434, 0.0331,\n",
              "       0.0143, 0.08  , 0.054 , 0.0278, 0.0233, 0.0529, 0.0571, 0.009 ,\n",
              "       0.0492, 0.0199, 0.0362, 0.0441, 0.0026, 0.0025, 0.0394, 0.0507,\n",
              "       0.0301, 0.0339, 0.0267, 0.0461, 0.0693, 0.0456, 0.036 , 0.0068,\n",
              "       0.0863, 0.0412, 0.0971, 0.0491, 0.0833, 0.0049, 0.0687, 0.0564,\n",
              "       0.0102, 0.0216, 0.0438, 0.07  , 0.0569, 0.0559, 0.0159, 0.0489,\n",
              "       0.0686, 0.0242, 0.0794, 0.0753, 0.0882, 0.0005, 0.0596, 0.082 ,\n",
              "       0.0361, 0.0459, 0.0248, 0.0566, 0.0673, 0.0946, 0.0422, 0.0923,\n",
              "       0.0738, 0.0015, 0.0736, 0.0573, 0.0122, 0.0277, 0.0558, 0.0453,\n",
              "       0.039 , 0.0294, 0.0574, 0.0598, 0.0446, 0.021 , 0.059 , 0.0714,\n",
              "       0.0302, 0.0909, 0.0223, 0.0734, 0.0003, 0.099 , 0.0518, 0.0093,\n",
              "       0.052 , 0.0428, 0.0493, 0.0235, 0.062 , 0.0161, 0.0721, 0.0752,\n",
              "       0.0331, 0.0333, 0.005 , 0.0523, 0.0863, 0.0668, 0.0492, 0.0582,\n",
              "       0.0681, 0.0272, 0.058 , 0.0867, 0.0252, 0.056 , 0.0696, 0.0832,\n",
              "       0.0699, 0.009 , 0.0446, 0.0332, 0.0139, 0.0357, 0.0601, 0.0274,\n",
              "       0.0019, 0.0983, 0.0311, 0.087 , 0.0886, 0.0978, 0.0154, 0.039 ,\n",
              "       0.026 , 0.062 , 0.0883, 0.0797, 0.0571, 0.0125, 0.0354, 0.0273,\n",
              "       0.0619, 0.0811, 0.0245, 0.0848, 0.045 , 0.093 , 0.0247, 0.052 ,\n",
              "       0.0141, 0.0362, 0.0008, 0.0478, 0.0352, 0.0996, 0.0495, 0.0606,\n",
              "       0.0833, 0.0427, 0.0039, 0.0593, 0.0187, 0.0596, 0.06  , 0.0754,\n",
              "       0.0854, 0.0093, 0.0086, 0.0044, 0.0137, 0.0421, 0.0074, 0.0548,\n",
              "       0.0613, 0.0988, 0.0512, 0.0156, 0.0938, 0.0255, 0.0171, 0.0981,\n",
              "       0.0728, 0.017 , 0.0764, 0.0872, 0.0322, 0.0567, 0.0456, 0.0944,\n",
              "       0.0603, 0.079 , 0.0613, 0.0155, 0.0889, 0.0349, 0.0451, 0.0876,\n",
              "       0.0653, 0.0173, 0.001 , 0.074 , 0.0265, 0.0438, 0.076 , 0.0247,\n",
              "       0.0667, 0.0546, 0.0499, 0.0129, 0.0672, 0.0601, 0.0605, 0.0327,\n",
              "       0.0753, 0.0835, 0.098 , 0.0404, 0.0629, 0.0606, 0.0675, 0.0611,\n",
              "       0.0625, 0.0359, 0.0603, 0.0858, 0.0718, 0.0017, 0.0274, 0.0685,\n",
              "       0.0116, 0.0861, 0.098 , 0.0693, 0.0091, 0.0082, 0.0324, 0.0961,\n",
              "       0.0114, 0.0769, 0.0058, 0.0154, 0.0877, 0.0404, 0.0628, 0.0855,\n",
              "       0.0266, 0.0315, 0.0715, 0.0041, 0.0105, 0.0901, 0.089 , 0.0193,\n",
              "       0.0401, 0.0278, 0.0354, 0.0749, 0.0937, 0.0733, 0.058 , 0.0709,\n",
              "       0.0256, 0.0651, 0.0824, 0.0947, 0.0661, 0.0099, 0.0588, 0.0282,\n",
              "       0.0883, 0.0403, 0.0109, 0.07  , 0.0199, 0.0303, 0.0327, 0.0154,\n",
              "       0.0552, 0.0645, 0.0405, 0.0462, 0.0132, 0.0791, 0.0874, 0.0084,\n",
              "       0.0399, 0.0754, 0.0628, 0.0109, 0.0221, 0.0904, 0.0553, 0.0368,\n",
              "       0.0147, 0.0112, 0.0615, 0.0558, 0.0924, 0.0494, 0.0505, 0.0475,\n",
              "       0.0836, 0.089 , 0.0271, 0.0995, 0.0421, 0.0897, 0.0707, 0.0367,\n",
              "       0.028 , 0.0283, 0.004 , 0.0959, 0.0189, 0.0164, 0.0994, 0.0989,\n",
              "       0.0536, 0.0536, 0.0004, 0.0835, 0.029 , 0.0953, 0.0433, 0.0471,\n",
              "       0.0181, 0.0248, 0.0628, 0.0279, 0.0877, 0.0581, 0.0863, 0.0254,\n",
              "       0.0181, 0.083 , 0.0681, 0.0825, 0.0509, 0.0761, 0.07  , 0.0566,\n",
              "       0.0326, 0.0357, 0.0825, 0.065 , 0.068 , 0.0391, 0.0615, 0.0934,\n",
              "       0.0085, 0.0317, 0.0212, 0.0515, 0.0384, 0.0691, 0.0342, 0.0815,\n",
              "       0.0964, 0.0988, 0.0844, 0.0038, 0.0511, 0.042 , 0.0751, 0.0169,\n",
              "       0.0965, 0.0909, 0.0343, 0.0826, 0.0306, 0.0542, 0.0702, 0.0869,\n",
              "       0.0537, 0.0112, 0.0411, 0.0947, 0.0206, 0.0185, 0.0382, 0.0496,\n",
              "       0.0379, 0.0047, 0.0886, 0.074 , 0.0551, 0.0528, 0.0504, 0.0022,\n",
              "       0.0213, 0.031 , 0.0661, 0.0968, 0.0753, 0.0272, 0.0571, 0.0799,\n",
              "       0.0938, 0.0202, 0.0032, 0.0443, 0.0162, 0.0767, 0.0254, 0.0521,\n",
              "       0.0977, 0.0651, 0.048 , 0.001 , 0.0726, 0.0505, 0.0785, 0.0836,\n",
              "       0.056 , 0.0436, 0.0111, 0.0153, 0.0635, 0.0917, 0.0869, 0.0102,\n",
              "       0.0753, 0.0833, 0.0191, 0.0729, 0.0563, 0.0804, 0.0081, 0.0489,\n",
              "       0.0895, 0.0088, 0.0194, 0.0104, 0.0783, 0.0096, 0.0423, 0.0891,\n",
              "       0.0198, 0.0001, 0.0407, 0.0378, 0.0167, 0.0509, 0.0638, 0.0313,\n",
              "       0.0593, 0.0418, 0.0763, 0.0681, 0.0477, 0.0073, 0.0141, 0.0582,\n",
              "       0.0262, 0.034 , 0.0308, 0.0245, 0.0515, 0.0337, 0.0575, 0.0561,\n",
              "       0.0076, 0.088 , 0.0175, 0.0109, 0.0183, 0.0192, 0.0065, 0.0849,\n",
              "       0.0963, 0.0474, 0.0783, 0.01  , 0.0544, 0.0864, 0.0128, 0.0452,\n",
              "       0.0914, 0.0369, 0.0851, 0.0043, 0.0884, 0.0419, 0.0488, 0.0078,\n",
              "       0.0826, 0.0801, 0.027 , 0.0674, 0.0701, 0.0759, 0.09  , 0.0728,\n",
              "       0.0315, 0.0925, 0.0851, 0.0902, 0.0889, 0.0993, 0.0945, 0.0168,\n",
              "       0.0339, 0.0193, 0.0453, 0.0283, 0.0336, 0.039 , 0.0525, 0.024 ,\n",
              "       0.0832, 0.0958, 0.0483, 0.0659, 0.0716, 0.0592, 0.0891, 0.0555,\n",
              "       0.0458, 0.0089, 0.066 , 0.0095, 0.0452, 0.0428, 0.0151, 0.0514,\n",
              "       0.0376, 0.0022, 0.0883, 0.0313, 0.0997, 0.084 , 0.0519, 0.0206,\n",
              "       0.0952, 0.0375, 0.0451, 0.0626, 0.0784, 0.0595, 0.0179, 0.021 ,\n",
              "       0.05  , 0.0464, 0.084 , 0.0124, 0.0993, 0.0113, 0.0012, 0.0126,\n",
              "       0.0565, 0.0331, 0.0901, 0.0283, 0.014 , 0.0401, 0.0902, 0.0097,\n",
              "       0.0517, 0.0569, 0.0924, 0.0846, 0.0069, 0.0118, 0.0888, 0.0059,\n",
              "       0.0033, 0.0318, 0.005 , 0.088 , 0.0489, 0.0019, 0.0726, 0.0197,\n",
              "       0.0891, 0.045 , 0.099 , 0.0559, 0.0679, 0.0452, 0.0289, 0.0141])"
            ]
          },
          "metadata": {
            "tags": []
          },
          "execution_count": 19
        }
      ]
    },
    {
      "cell_type": "code",
      "metadata": {
        "id": "2-TAHpI0iblf",
        "colab_type": "code",
        "colab": {
          "base_uri": "https://localhost:8080/",
          "height": 54
        },
        "outputId": "3a8971a3-5691-4598-9b66-8c8f9a2afea5"
      },
      "source": [
        "# generate option prices\n",
        "opt_price = []\n",
        "for i in range(draws):\n",
        "    p = euro_vanilla(S[i], K[i], T[i], r[i], d[i], sigma[i], opt_type[i])\n",
        "    opt_price.append(p)\n",
        "    if (i % 500) == 0:\n",
        "        print('Generated {} Options'.format(i))\n",
        "\n",
        "# create a dataframe\n",
        "options = pd.DataFrame({'S': S,\n",
        "                        'K': K,\n",
        "                        'T': T,\n",
        "                        'r': r,\n",
        "                        'd': d,\n",
        "                        'sigma': sigma,\n",
        "                        'type': opt_type,\n",
        "                        'price': opt_price})\n"
      ],
      "execution_count": 21,
      "outputs": [
        {
          "output_type": "stream",
          "text": [
            "Generated 0 Options\n",
            "Generated 500 Options\n"
          ],
          "name": "stdout"
        }
      ]
    },
    {
      "cell_type": "code",
      "metadata": {
        "id": "siky2__iihuW",
        "colab_type": "code",
        "colab": {
          "base_uri": "https://localhost:8080/",
          "height": 198
        },
        "outputId": "21f1ff5f-3e31-464b-c4fd-540fa5e4b94f"
      },
      "source": [
        "options.head()"
      ],
      "execution_count": 22,
      "outputs": [
        {
          "output_type": "execute_result",
          "data": {
            "text/html": [
              "<div>\n",
              "<style scoped>\n",
              "    .dataframe tbody tr th:only-of-type {\n",
              "        vertical-align: middle;\n",
              "    }\n",
              "\n",
              "    .dataframe tbody tr th {\n",
              "        vertical-align: top;\n",
              "    }\n",
              "\n",
              "    .dataframe thead th {\n",
              "        text-align: right;\n",
              "    }\n",
              "</style>\n",
              "<table border=\"1\" class=\"dataframe\">\n",
              "  <thead>\n",
              "    <tr style=\"text-align: right;\">\n",
              "      <th></th>\n",
              "      <th>S</th>\n",
              "      <th>K</th>\n",
              "      <th>T</th>\n",
              "      <th>r</th>\n",
              "      <th>d</th>\n",
              "      <th>sigma</th>\n",
              "      <th>type</th>\n",
              "      <th>price</th>\n",
              "    </tr>\n",
              "  </thead>\n",
              "  <tbody>\n",
              "    <tr>\n",
              "      <th>0</th>\n",
              "      <td>37.454012</td>\n",
              "      <td>35.955851</td>\n",
              "      <td>2.96</td>\n",
              "      <td>0.0835</td>\n",
              "      <td>0.0084</td>\n",
              "      <td>0.353697</td>\n",
              "      <td>1</td>\n",
              "      <td>12.634421</td>\n",
              "    </tr>\n",
              "    <tr>\n",
              "      <th>1</th>\n",
              "      <td>95.071431</td>\n",
              "      <td>57.993573</td>\n",
              "      <td>2.17</td>\n",
              "      <td>0.0566</td>\n",
              "      <td>0.0694</td>\n",
              "      <td>0.302479</td>\n",
              "      <td>0</td>\n",
              "      <td>2.161922</td>\n",
              "    </tr>\n",
              "    <tr>\n",
              "      <th>2</th>\n",
              "      <td>73.199394</td>\n",
              "      <td>81.251328</td>\n",
              "      <td>1.15</td>\n",
              "      <td>0.0906</td>\n",
              "      <td>0.0391</td>\n",
              "      <td>0.975373</td>\n",
              "      <td>1</td>\n",
              "      <td>26.976851</td>\n",
              "    </tr>\n",
              "    <tr>\n",
              "      <th>3</th>\n",
              "      <td>59.865848</td>\n",
              "      <td>77.226944</td>\n",
              "      <td>1.67</td>\n",
              "      <td>0.0810</td>\n",
              "      <td>0.0591</td>\n",
              "      <td>0.170115</td>\n",
              "      <td>1</td>\n",
              "      <td>1.120671</td>\n",
              "    </tr>\n",
              "    <tr>\n",
              "      <th>4</th>\n",
              "      <td>15.601864</td>\n",
              "      <td>21.374554</td>\n",
              "      <td>1.30</td>\n",
              "      <td>0.0320</td>\n",
              "      <td>0.0215</td>\n",
              "      <td>0.898238</td>\n",
              "      <td>1</td>\n",
              "      <td>4.587655</td>\n",
              "    </tr>\n",
              "  </tbody>\n",
              "</table>\n",
              "</div>"
            ],
            "text/plain": [
              "           S          K     T       r       d     sigma  type      price\n",
              "0  37.454012  35.955851  2.96  0.0835  0.0084  0.353697     1  12.634421\n",
              "1  95.071431  57.993573  2.17  0.0566  0.0694  0.302479     0   2.161922\n",
              "2  73.199394  81.251328  1.15  0.0906  0.0391  0.975373     1  26.976851\n",
              "3  59.865848  77.226944  1.67  0.0810  0.0591  0.170115     1   1.120671\n",
              "4  15.601864  21.374554  1.30  0.0320  0.0215  0.898238     1   4.587655"
            ]
          },
          "metadata": {
            "tags": []
          },
          "execution_count": 22
        }
      ]
    },
    {
      "cell_type": "code",
      "metadata": {
        "id": "gNzHrnqwjElZ",
        "colab_type": "code",
        "colab": {}
      },
      "source": [
        "options = pd.concat([options, pd.get_dummies(options['type'])], axis=1)\n",
        "options.drop('type', inplace=True, axis=1)\n"
      ],
      "execution_count": 0,
      "outputs": []
    },
    {
      "cell_type": "code",
      "metadata": {
        "id": "CuVnmuc6jHs5",
        "colab_type": "code",
        "colab": {
          "base_uri": "https://localhost:8080/",
          "height": 198
        },
        "outputId": "8415959b-da72-4495-88c6-68972e43443b"
      },
      "source": [
        "options.head()"
      ],
      "execution_count": 24,
      "outputs": [
        {
          "output_type": "execute_result",
          "data": {
            "text/html": [
              "<div>\n",
              "<style scoped>\n",
              "    .dataframe tbody tr th:only-of-type {\n",
              "        vertical-align: middle;\n",
              "    }\n",
              "\n",
              "    .dataframe tbody tr th {\n",
              "        vertical-align: top;\n",
              "    }\n",
              "\n",
              "    .dataframe thead th {\n",
              "        text-align: right;\n",
              "    }\n",
              "</style>\n",
              "<table border=\"1\" class=\"dataframe\">\n",
              "  <thead>\n",
              "    <tr style=\"text-align: right;\">\n",
              "      <th></th>\n",
              "      <th>S</th>\n",
              "      <th>K</th>\n",
              "      <th>T</th>\n",
              "      <th>r</th>\n",
              "      <th>d</th>\n",
              "      <th>sigma</th>\n",
              "      <th>price</th>\n",
              "      <th>0</th>\n",
              "      <th>1</th>\n",
              "    </tr>\n",
              "  </thead>\n",
              "  <tbody>\n",
              "    <tr>\n",
              "      <th>0</th>\n",
              "      <td>37.454012</td>\n",
              "      <td>35.955851</td>\n",
              "      <td>2.96</td>\n",
              "      <td>0.0835</td>\n",
              "      <td>0.0084</td>\n",
              "      <td>0.353697</td>\n",
              "      <td>12.634421</td>\n",
              "      <td>0</td>\n",
              "      <td>1</td>\n",
              "    </tr>\n",
              "    <tr>\n",
              "      <th>1</th>\n",
              "      <td>95.071431</td>\n",
              "      <td>57.993573</td>\n",
              "      <td>2.17</td>\n",
              "      <td>0.0566</td>\n",
              "      <td>0.0694</td>\n",
              "      <td>0.302479</td>\n",
              "      <td>2.161922</td>\n",
              "      <td>1</td>\n",
              "      <td>0</td>\n",
              "    </tr>\n",
              "    <tr>\n",
              "      <th>2</th>\n",
              "      <td>73.199394</td>\n",
              "      <td>81.251328</td>\n",
              "      <td>1.15</td>\n",
              "      <td>0.0906</td>\n",
              "      <td>0.0391</td>\n",
              "      <td>0.975373</td>\n",
              "      <td>26.976851</td>\n",
              "      <td>0</td>\n",
              "      <td>1</td>\n",
              "    </tr>\n",
              "    <tr>\n",
              "      <th>3</th>\n",
              "      <td>59.865848</td>\n",
              "      <td>77.226944</td>\n",
              "      <td>1.67</td>\n",
              "      <td>0.0810</td>\n",
              "      <td>0.0591</td>\n",
              "      <td>0.170115</td>\n",
              "      <td>1.120671</td>\n",
              "      <td>0</td>\n",
              "      <td>1</td>\n",
              "    </tr>\n",
              "    <tr>\n",
              "      <th>4</th>\n",
              "      <td>15.601864</td>\n",
              "      <td>21.374554</td>\n",
              "      <td>1.30</td>\n",
              "      <td>0.0320</td>\n",
              "      <td>0.0215</td>\n",
              "      <td>0.898238</td>\n",
              "      <td>4.587655</td>\n",
              "      <td>0</td>\n",
              "      <td>1</td>\n",
              "    </tr>\n",
              "  </tbody>\n",
              "</table>\n",
              "</div>"
            ],
            "text/plain": [
              "           S          K     T       r       d     sigma      price  0  1\n",
              "0  37.454012  35.955851  2.96  0.0835  0.0084  0.353697  12.634421  0  1\n",
              "1  95.071431  57.993573  2.17  0.0566  0.0694  0.302479   2.161922  1  0\n",
              "2  73.199394  81.251328  1.15  0.0906  0.0391  0.975373  26.976851  0  1\n",
              "3  59.865848  77.226944  1.67  0.0810  0.0591  0.170115   1.120671  0  1\n",
              "4  15.601864  21.374554  1.30  0.0320  0.0215  0.898238   4.587655  0  1"
            ]
          },
          "metadata": {
            "tags": []
          },
          "execution_count": 24
        }
      ]
    },
    {
      "cell_type": "code",
      "metadata": {
        "id": "P-016oyrjS6Q",
        "colab_type": "code",
        "colab": {}
      },
      "source": [
        "X, y = options[options.columns.difference(['price'])], options['price']"
      ],
      "execution_count": 0,
      "outputs": []
    },
    {
      "cell_type": "code",
      "metadata": {
        "id": "3qoHDkXHjhPu",
        "colab_type": "code",
        "colab": {}
      },
      "source": [
        "from sklearn.model_selection import train_test_split  \n",
        "X_train, X_test, y_train, y_test = train_test_split(X, y, test_size=0.1)\n"
      ],
      "execution_count": 0,
      "outputs": []
    },
    {
      "cell_type": "code",
      "metadata": {
        "id": "QEjz48eBjjXY",
        "colab_type": "code",
        "colab": {
          "base_uri": "https://localhost:8080/",
          "height": 292
        },
        "outputId": "ac9baa6c-5e21-4719-92d2-62028f12b193"
      },
      "source": [
        "# Use a linear stack of layers\n",
        "from keras.models import Sequential \n",
        "# Implement output = activation(dot(input, kernel) + bias)\n",
        "from keras.layers import Dense, Dropout \n",
        "\n",
        "model = Sequential()\n",
        "model.add(Dense(2048, input_dim=X.shape[-1], activation='relu'))\n",
        "#model.add(Dropout(.25))\n",
        "model.add(Dense(2048, activation='relu'))\n",
        "#model.add(Dropout(.25))\n",
        "#model.add(Dense(2048, activation='relu'))\n",
        "#model.add(Dropout(.25))\n",
        "model.add(Dense(1, activation='linear'))\n",
        "model.compile(optimizer='adam', loss='mse')\n",
        "history = model.fit(X_train, y_train, epochs=100, verbose = 0, validation_split = .1) #validation_split=.1, verbose=0, batch_size=256) # callbacks=get_keras_callbacks()\n"
      ],
      "execution_count": 27,
      "outputs": [
        {
          "output_type": "stream",
          "text": [
            "Using TensorFlow backend.\n",
            "WARNING: Logging before flag parsing goes to stderr.\n",
            "W0704 05:57:09.261144 140378969003904 deprecation_wrapper.py:119] From /usr/local/lib/python3.6/dist-packages/keras/backend/tensorflow_backend.py:74: The name tf.get_default_graph is deprecated. Please use tf.compat.v1.get_default_graph instead.\n",
            "\n",
            "W0704 05:57:09.277914 140378969003904 deprecation_wrapper.py:119] From /usr/local/lib/python3.6/dist-packages/keras/backend/tensorflow_backend.py:517: The name tf.placeholder is deprecated. Please use tf.compat.v1.placeholder instead.\n",
            "\n",
            "W0704 05:57:09.281623 140378969003904 deprecation_wrapper.py:119] From /usr/local/lib/python3.6/dist-packages/keras/backend/tensorflow_backend.py:4138: The name tf.random_uniform is deprecated. Please use tf.random.uniform instead.\n",
            "\n",
            "W0704 05:57:09.324812 140378969003904 deprecation_wrapper.py:119] From /usr/local/lib/python3.6/dist-packages/keras/optimizers.py:790: The name tf.train.Optimizer is deprecated. Please use tf.compat.v1.train.Optimizer instead.\n",
            "\n",
            "W0704 05:57:09.451569 140378969003904 deprecation_wrapper.py:119] From /usr/local/lib/python3.6/dist-packages/keras/backend/tensorflow_backend.py:986: The name tf.assign_add is deprecated. Please use tf.compat.v1.assign_add instead.\n",
            "\n",
            "W0704 05:57:09.557914 140378969003904 deprecation_wrapper.py:119] From /usr/local/lib/python3.6/dist-packages/keras/backend/tensorflow_backend.py:973: The name tf.assign is deprecated. Please use tf.compat.v1.assign instead.\n",
            "\n"
          ],
          "name": "stderr"
        }
      ]
    },
    {
      "cell_type": "code",
      "metadata": {
        "id": "b4Z7jKHEkXCF",
        "colab_type": "code",
        "colab": {
          "base_uri": "https://localhost:8080/",
          "height": 254
        },
        "outputId": "fa47822e-b53d-41f5-93a0-3a6046336350"
      },
      "source": [
        "model.summary()\n"
      ],
      "execution_count": 28,
      "outputs": [
        {
          "output_type": "stream",
          "text": [
            "_________________________________________________________________\n",
            "Layer (type)                 Output Shape              Param #   \n",
            "=================================================================\n",
            "dense_1 (Dense)              (None, 2048)              18432     \n",
            "_________________________________________________________________\n",
            "dense_2 (Dense)              (None, 2048)              4196352   \n",
            "_________________________________________________________________\n",
            "dense_3 (Dense)              (None, 1)                 2049      \n",
            "=================================================================\n",
            "Total params: 4,216,833\n",
            "Trainable params: 4,216,833\n",
            "Non-trainable params: 0\n",
            "_________________________________________________________________\n"
          ],
          "name": "stdout"
        }
      ]
    },
    {
      "cell_type": "code",
      "metadata": {
        "id": "14hvR_LFlEJf",
        "colab_type": "code",
        "colab": {
          "base_uri": "https://localhost:8080/",
          "height": 54
        },
        "outputId": "81a07cd3-0548-45c6-bf69-0c240e324d94"
      },
      "source": [
        "insampleY = model.predict(X_train)\n",
        "outsampleY = model.predict(X_test)\n",
        "error_insample = y_train - insampleY[:,0]\n",
        "error_outsample = y_test - outsampleY[:,0]\n",
        "\n",
        "mse_insample = np.sum(error_insample**2)/(len(insampleY))\n",
        "mse_outsample = np.sum(error_outsample**2)/(len(outsampleY))\n",
        "\n",
        "print('mse_insample:', mse_insample)\n",
        "print('mse_outsample:', mse_outsample)\n"
      ],
      "execution_count": 29,
      "outputs": [
        {
          "output_type": "stream",
          "text": [
            "mse_insample: 5.443720499991588\n",
            "mse_outsample: 5.781018199913158\n"
          ],
          "name": "stdout"
        }
      ]
    },
    {
      "cell_type": "code",
      "metadata": {
        "id": "7VqPZ4aElSAv",
        "colab_type": "code",
        "colab": {
          "base_uri": "https://localhost:8080/",
          "height": 1000
        },
        "outputId": "39485fe7-b4bf-43b0-cd9b-d22c0aa21a53"
      },
      "source": [
        "print(history.history.keys())\n",
        "import matplotlib.pyplot as plt\n",
        "import seaborn\n",
        "plt.style.use('seaborn')\n",
        "loss = history.history['loss']\n",
        "\n",
        "#epochs = range(1, len(acc) + 1)\n",
        "plt.plot(loss)\n",
        "\n",
        "plt.show()\n",
        "\n",
        "\n",
        "#graph\n",
        "#train_mae = history.history['mean_absolute_error']\n",
        "train_loss = history.history['loss']\n",
        "#val_mae = history.history['val_mean_absolute_error']\n",
        "val_loss = history.history['val_loss']\n",
        "\n",
        "epochs = range(1, len(train_loss) + 1)\n",
        "\n",
        "plt.figure()\n",
        "plt.plot(epochs, train_loss, 'bo', label='Training loss')\n",
        "plt.plot(epochs, val_loss, 'b--', label='Validation loss')\n",
        "plt.title('Training and validation loss')\n",
        "plt.xlabel('Epochs')\n",
        "plt.ylabel('Loss')\n",
        "plt.legend()\n",
        "\n",
        "print(\"Errors for outsample:\")\n",
        "print(error_outsample.describe())\n",
        "print('\\n')\n",
        "print(\"Errors for insample:\")\n",
        "print(error_insample.describe())\n",
        "\n",
        "plt.figure()\n",
        "plt.hist(error_outsample, bins='auto', color = 'skyblue')\n",
        "plt.title(\"Histogram for test set\")\n",
        "plt.show()\n",
        "\n",
        "plt.figure()\n",
        "plt.hist(error_insample, bins='auto', color = 'turquoise')\n",
        "plt.title(\"Histogram for training set\")\n",
        "plt.show()\n",
        "\n",
        "\n"
      ],
      "execution_count": 30,
      "outputs": [
        {
          "output_type": "stream",
          "text": [
            "dict_keys(['val_loss', 'loss'])\n"
          ],
          "name": "stdout"
        },
        {
          "output_type": "display_data",
          "data": {
            "image/png": "[encoded data removed]",
            "text/plain": [
              "<Figure size 576x396 with 1 Axes>"
            ]
          },
          "metadata": {
            "tags": []
          }
        },
        {
          "output_type": "stream",
          "text": [
            "Errors for outsample:\n",
            "count    100.000000\n",
            "mean       0.290357\n",
            "std        2.398802\n",
            "min       -6.098939\n",
            "25%       -0.725440\n",
            "50%       -0.170588\n",
            "75%        1.046671\n",
            "max        7.471651\n",
            "Name: price, dtype: float64\n",
            "\n",
            "\n",
            "Errors for insample:\n",
            "count    900.000000\n",
            "mean      -0.015113\n",
            "std        2.334427\n",
            "min      -10.485551\n",
            "25%       -1.050176\n",
            "50%       -0.081912\n",
            "75%        0.937296\n",
            "max       10.881739\n",
            "Name: price, dtype: float64\n"
          ],
          "name": "stdout"
        },
        {
          "output_type": "display_data",
          "data": {
            "image/png": "[encoded data removed]",
            "text/plain": [
              "<Figure size 576x396 with 1 Axes>"
            ]
          },
          "metadata": {
            "tags": []
          }
        },
        {
          "output_type": "display_data",
          "data": {
            "image/png": "[encoded data removed]",
            "text/plain": [
              "<Figure size 576x396 with 1 Axes>"
            ]
          },
          "metadata": {
            "tags": []
          }
        },
        {
          "output_type": "display_data",
          "data": {
            "image/png": "[encoded data removed]",
            "text/plain": [
              "<Figure size 576x396 with 1 Axes>"
            ]
          },
          "metadata": {
            "tags": []
          }
        }
      ]
    },
    {
      "cell_type": "code",
      "metadata": {
        "id": "egwin7gZmBKR",
        "colab_type": "code",
        "colab": {}
      },
      "source": [
        ""
      ],
      "execution_count": 0,
      "outputs": []
    }
  ]
}